{
  "nbformat": 4,
  "nbformat_minor": 0,
  "metadata": {
    "colab": {
      "private_outputs": true,
      "provenance": [],
      "collapsed_sections": [
        "vncDsAP0Gaoa",
        "FJNUwmbgGyua",
        "w6K7xa23Elo4",
        "yQaldy8SH6Dl",
        "PH-0ReGfmX4f",
        "mDgbUHAGgjLW",
        "O_i_v8NEhb9l",
        "HhfV-JJviCcP",
        "Y3lxredqlCYt",
        "3RnN4peoiCZX",
        "x71ZqKXriCWQ",
        "7hBIi_osiCS2",
        "JlHwYmJAmNHm",
        "35m5QtbWiB9F",
        "PoPl-ycgm1ru",
        "H0kj-8xxnORC",
        "nA9Y7ga8ng1Z",
        "PBTbrJXOngz2",
        "u3PMJOP6ngxN",
        "dauF4eBmngu3",
        "bKJF3rekwFvQ",
        "MSa1f5Uengrz",
        "GF8Ens_Soomf",
        "0wOQAZs5pc--",
        "K5QZ13OEpz2H",
        "lQ7QKXXCp7Bj",
        "448CDAPjqfQr",
        "KSlN3yHqYklG",
        "t6dVpIINYklI",
        "ijmpgYnKYklI",
        "-JiQyfWJYklI",
        "EM7whBJCYoAo",
        "fge-S5ZAYoAp",
        "85gYPyotYoAp",
        "RoGjAbkUYoAp",
        "4Of9eVA-YrdM",
        "iky9q4vBYrdO",
        "F6T5p64dYrdO",
        "y-Ehk30pYrdP",
        "bamQiAODYuh1",
        "QHF8YVU7Yuh3",
        "GwzvFGzlYuh3",
        "qYpmQ266Yuh3",
        "OH-pJp9IphqM",
        "bbFf2-_FphqN",
        "_ouA3fa0phqN",
        "Seke61FWphqN",
        "PIIx-8_IphqN",
        "t27r6nlMphqO",
        "r2jJGEOYphqO",
        "b0JNsNcRphqO",
        "BZR9WyysphqO",
        "jj7wYXLtphqO",
        "eZrbJ2SmphqO",
        "rFu4xreNphqO",
        "YJ55k-q6phqO",
        "gCFgpxoyphqP",
        "OVtJsKN_phqQ",
        "lssrdh5qphqQ",
        "U2RJ9gkRphqQ",
        "1M8mcRywphqQ",
        "tgIPom80phqQ",
        "JMzcOPDDphqR",
        "x-EpHcCOp1ci",
        "X_VqEhTip1ck",
        "8zGJKyg5p1ck",
        "PVzmfK_Ep1ck",
        "n3dbpmDWp1ck",
        "ylSl6qgtp1ck",
        "ZWILFDl5p1ck",
        "M7G43BXep1ck",
        "Ag9LCva-p1cl",
        "E6MkPsBcp1cl",
        "2cELzS2fp1cl",
        "3MPXvC8up1cl",
        "NC_X3p0fY2L0",
        "UV0SzAkaZNRQ",
        "YPEH6qLeZNRQ",
        "q29F0dvdveiT",
        "EXh0U9oCveiU",
        "22aHeOlLveiV",
        "JcMwzZxoAimU",
        "8G2x9gOozGDZ",
        "gCX9965dhzqZ",
        "gIfDvo9L0UH2"
      ],
      "include_colab_link": true
    },
    "kernelspec": {
      "name": "python3",
      "display_name": "Python 3"
    },
    "language_info": {
      "name": "python"
    }
  },
  "cells": [
    {
      "cell_type": "markdown",
      "metadata": {
        "id": "view-in-github",
        "colab_type": "text"
      },
      "source": [
        "<a href=\"https://colab.research.google.com/github/Pavan6177/amazon-prime/blob/main/Amazon_Prime__Project_.ipynb\" target=\"_parent\"><img src=\"https://colab.research.google.com/assets/colab-badge.svg\" alt=\"Open In Colab\"/></a>"
      ]
    },
    {
      "cell_type": "markdown",
      "source": [
        "# **Project Name**    - Amazon Prime\n",
        "\n"
      ],
      "metadata": {
        "id": "vncDsAP0Gaoa"
      }
    },
    {
      "cell_type": "markdown",
      "source": [
        "##### **Project Type**    - EDA/Regression/Classification/Unsupervised\n",
        "##### **Contribution**    - Individual\n",
        "##### **Team Member 1 -**. -Byreddy Pavan Kumar\n"
      ],
      "metadata": {
        "id": "beRrZCGUAJYm"
      }
    },
    {
      "cell_type": "markdown",
      "source": [
        "# **Project Summary -**"
      ],
      "metadata": {
        "id": "FJNUwmbgGyua"
      }
    },
    {
      "cell_type": "markdown",
      "source": [
        "This project is about analyzing the content available on Amazon Prime Video using data from the United States. The dataset includes over 9,000 different shows and movies, along with more than 124,000 credits that show which actors and directors worked on them. The data comes in two CSV files: one file (titles.csv) contains details about each title such as the name, whether it's a movie or a TV show, its release year, genres, runtime, age rating, and IMDb scores. The second file (credits.csv) lists the names of actors and directors, what roles they played, and which titles they worked on. The goal of this project is to explore the data and find interesting patterns and trends. This can help businesses and content creators understand what kind of content is popular, how the platform has grown, and what viewers prefer to watch.\n",
        "\n",
        "To start the project, we used Python and some popular libraries like Pandas for handling the data, NumPy for working with numbers, and Matplotlib and Seaborn for making charts and graphs. The first step was to clean the data by fixing missing values, converting columns that looked like text into usable lists (like genres and production countries), and making sure the numbers were in the right format. Once the data was ready, we began exploring it through visualizations and summary statistics.\n",
        "\n",
        "One of the first things we found was that Amazon Prime Video has more movies than TV shows. This shows that the platform focuses more on one-time viewing experiences rather than long series. When looking at genres, the most common ones were drama, comedy, action, and thriller. This tells us that people enjoy stories with strong emotions, humor, excitement, and suspense. We also looked at where the content was made. Most titles come from the United States, but many also come from the United Kingdom, India, and Canada. This shows that Amazon Prime offers a wide variety of content from different countries.\n",
        "\n",
        "We then looked at how the number of new shows and movies changed over time. We found that there was a big increase in new content between 2015 and 2020. This matches with Amazon's efforts to grow its library and produce more original shows and movies during those years. When checking IMDb scores, we noticed that most titles had average ratings, but some received very high scores, especially in genres like drama and documentary. These highly rated titles are often more thoughtful, emotional, or informative.\n",
        "\n",
        "Another thing we looked at was age ratings. We found content for all age groups, from kids to adults, but a large portion of the content was rated for mature audiences. This means the platform also offers more serious or complex stories for older viewers. Finally, we explored which actors and directors appear most often in the dataset. This helped us see which people are commonly involved in Prime Video content and may be popular or important for viewers.\n"
      ],
      "metadata": {
        "id": "F6v_1wHtG2nS"
      }
    },
    {
      "cell_type": "markdown",
      "source": [
        "# **GitHub Link -**"
      ],
      "metadata": {
        "id": "w6K7xa23Elo4"
      }
    },
    {
      "cell_type": "markdown",
      "source": [
        "Provide your GitHub Link here."
      ],
      "metadata": {
        "id": "h1o69JH3Eqqn"
      }
    },
    {
      "cell_type": "markdown",
      "source": [
        "# **Problem Statement**\n"
      ],
      "metadata": {
        "id": "yQaldy8SH6Dl"
      }
    },
    {
      "cell_type": "markdown",
      "source": [
        "This project is about analyzing the content available on Amazon Prime Video using data from the United States. The dataset includes over 9,000 different shows and movies, along with more than 124,000 credits that show which actors and directors worked on them. The data comes in two CSV files: one file (titles.csv) contains details about each title such as the name, whether it's a movie or a TV show, its release year, genres, runtime, age rating, and IMDb scores. The second file (credits.csv) lists the names of actors and directors, what roles they played, and which titles they worked on. The goal of this project is to explore the data and find interesting patterns and trends. This can help businesses and content creators understand what kind of content is popular, how the platform has grown, and what viewers prefer to watch.\n",
        "\n",
        "To start the project, we used Python and some popular libraries like Pandas for handling the data, NumPy for working with numbers, and Matplotlib and Seaborn for making charts and graphs. The first step was to clean the data by fixing missing values, converting columns that looked like text into usable lists (like genres and production countries), and making sure the numbers were in the right format. Once the data was ready, we began exploring it through visualizations and summary statistics.\n",
        "\n",
        "One of the first things we found was that Amazon Prime Video has more movies than TV shows. This shows that the platform focuses more on one-time viewing experiences rather than long series. When looking at genres, the most common ones were drama, comedy, action, and thriller. This tells us that people enjoy stories with strong emotions, humor, excitement, and suspense. We also looked at where the content was made. Most titles come from the United States, but many also come from the United Kingdom, India, and Canada. This shows that Amazon Prime offers a wide variety of content from different countries.\n",
        "\n",
        "We then looked at how the number of new shows and movies changed over time. We found that there was a big increase in new content between 2015 and 2020. This matches with Amazon's efforts to grow its library and produce more original shows and movies during those years. When checking IMDb scores, we noticed that most titles had average ratings, but some received very high scores, especially in genres like drama and documentary. These highly rated titles are often more thoughtful, emotional, or informative.\n",
        "\n",
        "Another thing we looked at was age ratings. We found content for all age groups, from kids to adults, but a large portion of the content was rated for mature audiences. This means the platform also offers more serious or complex stories for older viewers. Finally, we explored which actors and directors appear most often in the dataset. This helped us see which people are commonly involved in Prime Video content and may be popular or important for viewers.\n",
        "\n",
        "In conclusion, this project gave us a clear picture of what kind of content Amazon Prime Video offers, how it has grown, and what viewers seem to like. These insights can help businesses make smarter choices about what content to add or create, and help viewers discover new things to watch. It also shows how useful data analysis can be in understanding trends in the streaming world.**Write Problem Statement Here.**"
      ],
      "metadata": {
        "id": "DpeJGUA3kjGy"
      }
    },
    {
      "cell_type": "markdown",
      "source": [
        "#### **Define Your Business Objective?**"
      ],
      "metadata": {
        "id": "PH-0ReGfmX4f"
      }
    },
    {
      "cell_type": "markdown",
      "source": [
        "The main business objective of this project is to analyze the content library of Amazon Prime Video to uncover insights that can support content strategy, audience targeting, and platform growth. By examining the available titles, genres, ratings, countries of production, and cast/crew data, we aim to answer key questions such as:\n",
        "\n",
        "What types of content (movies vs. TV shows) are most common?\n",
        "Which genres are most popular?\n",
        "How has the volume of content changed over the years?\n",
        "What are the trends in ratings and popularity?\n",
        "Which countries contribute most to the platform’s content?\n",
        "Who are the most frequently featured actors and directors?\n",
        "These insights will help stakeholders—including content creators, marketing teams, and business analysts—make data-driven decisions to:\n",
        "\n",
        "Invest in high-performing genres or regions,\n",
        "Improve user engagement by understanding audience preferences,\n",
        "Plan for future content production and acquisitions, and\n",
        "Enhance viewer satisfaction and platform competitiveness in the streaming industry.\n",
        "In short, the business objective is to use data to guide smarter decisions that lead to better content, higher engagement, and stronger growth for Amazon Prime Video."
      ],
      "metadata": {
        "id": "PhDvGCAqmjP1"
      }
    },
    {
      "cell_type": "markdown",
      "source": [
        "# **General Guidelines** : -  "
      ],
      "metadata": {
        "id": "mDgbUHAGgjLW"
      }
    },
    {
      "cell_type": "markdown",
      "source": [
        "1.   Well-structured, formatted, and commented code is required.\n",
        "2.   Exception Handling, Production Grade Code & Deployment Ready Code will be a plus. Those students will be awarded some additional credits.\n",
        "     \n",
        "     The additional credits will have advantages over other students during Star Student selection.\n",
        "       \n",
        "             [ Note: - Deployment Ready Code is defined as, the whole .ipynb notebook should be executable in one go\n",
        "                       without a single error logged. ]\n",
        "\n",
        "3.   Each and every logic should have proper comments.\n",
        "4. You may add as many number of charts you want. Make Sure for each and every chart the following format should be answered.\n",
        "        \n",
        "\n",
        "```\n",
        "# Chart visualization code\n",
        "```\n",
        "            \n",
        "\n",
        "*   Why did you pick the specific chart?\n",
        "*   What is/are the insight(s) found from the chart?\n",
        "* Will the gained insights help creating a positive business impact?\n",
        "Are there any insights that lead to negative growth? Justify with specific reason.\n",
        "\n",
        "5. You have to create at least 20 logical & meaningful charts having important insights.\n",
        "\n",
        "\n",
        "[ Hints : - Do the Vizualization in  a structured way while following \"UBM\" Rule.\n",
        "\n",
        "U - Univariate Analysis,\n",
        "\n",
        "B - Bivariate Analysis (Numerical - Categorical, Numerical - Numerical, Categorical - Categorical)\n",
        "\n",
        "M - Multivariate Analysis\n",
        " ]\n",
        "\n",
        "\n",
        "\n"
      ],
      "metadata": {
        "id": "ZrxVaUj-hHfC"
      }
    },
    {
      "cell_type": "markdown",
      "source": [
        "# ***Let's Begin !***"
      ],
      "metadata": {
        "id": "O_i_v8NEhb9l"
      }
    },
    {
      "cell_type": "code",
      "source": [
        "import pandas as pd\n",
        "import numpy as np\n",
        "import matplotlib.pyplot as plt\n",
        "import seaborn as sns\n",
        "import ast\n",
        "\n",
        "# Set visualization style\n",
        "sns.set(style='whitegrid')\n"
      ],
      "metadata": {
        "id": "R14xUM7wQz0c"
      },
      "execution_count": null,
      "outputs": []
    },
    {
      "cell_type": "code",
      "source": [
        "# Load titles and credits datasets\n",
        "titles_df = pd.read_csv('titles.csv')\n",
        "credits_df = pd.read_csv('credits.csv')\n",
        "\n",
        "# Display first few rows\n",
        "titles_df.head(), credits_df.head()\n"
      ],
      "metadata": {
        "id": "vGIPdZzkRMMX"
      },
      "execution_count": null,
      "outputs": []
    },
    {
      "cell_type": "code",
      "source": [
        "# Data info\n",
        "titles_df.info()\n",
        "credits_df.info()\n",
        "\n",
        "# Check nulls\n",
        "print(titles_df.isnull().sum())\n",
        "print(credits_df.isnull().sum())\n",
        "\n",
        "# Summarize datasets\n",
        "titles_df.describe(include='all')\n",
        "credits_df.describe(include='all')\n"
      ],
      "metadata": {
        "id": "kaWXwTaTRSxd"
      },
      "execution_count": null,
      "outputs": []
    },
    {
      "cell_type": "code",
      "source": [
        "# Convert 'release_year' to numeric\n",
        "titles_df['release_year'] = pd.to_numeric(titles_df['release_year'], errors='coerce')\n",
        "titles_df.dropna(subset=['release_year'], inplace=True)\n",
        "\n",
        "# Parse 'genres' and 'production_countries' columns\n",
        "def parse_list(x):\n",
        "    try:\n",
        "        return ast.literal_eval(x)\n",
        "    except:\n",
        "        return []\n",
        "\n",
        "titles_df['genres_list'] = titles_df['genres'].apply(parse_list)\n",
        "titles_df['countries_list'] = titles_df['production_countries'].apply(parse_list)\n"
      ],
      "metadata": {
        "id": "89fsGrdORdFJ"
      },
      "execution_count": null,
      "outputs": []
    },
    {
      "cell_type": "code",
      "source": [
        "# Flatten genres list\n",
        "all_genres = [genre for sublist in titles_df['genres_list'] for genre in sublist]\n",
        "genre_counts = pd.Series(all_genres).value_counts()\n",
        "\n",
        "# Plot top genres\n",
        "plt.figure(figsize=(12,6))\n",
        "sns.barplot(x=genre_counts.values[:10], y=genre_counts.index[:10])\n",
        "plt.title('Top 10 Genres')\n",
        "plt.xlabel('Number of Titles')\n",
        "plt.ylabel('Genres')\n",
        "plt.show()\n"
      ],
      "metadata": {
        "id": "mXo8YbRURi74"
      },
      "execution_count": null,
      "outputs": []
    },
    {
      "cell_type": "code",
      "source": [
        "plt.figure(figsize=(8, 5))\n",
        "sns.countplot(data=titles_df, x='type', hue='type', palette=\"Set2\", legend=False)\n",
        "plt.title('Content Type Distribution on Amazon Prime Video')\n",
        "plt.xlabel('Type')\n",
        "plt.ylabel('Count')\n",
        "plt.tight_layout()\n",
        "plt.show()\n"
      ],
      "metadata": {
        "id": "zX3MIvD6Rr64"
      },
      "execution_count": null,
      "outputs": []
    },
    {
      "cell_type": "code",
      "source": [
        "plt.figure(figsize=(15,6))\n",
        "titles_per_year = titles_df['release_year'].value_counts().sort_index()\n",
        "sns.lineplot(x=titles_per_year.index, y=titles_per_year.values)\n",
        "plt.title('Number of Titles Released Over Years')\n",
        "plt.xlabel('Year')\n",
        "plt.ylabel('Count')\n",
        "plt.show()\n"
      ],
      "metadata": {
        "id": "xfpBjjbqR1Ln"
      },
      "execution_count": null,
      "outputs": []
    },
    {
      "cell_type": "code",
      "source": [
        "# Flatten countries list\n",
        "all_countries = [country for sublist in titles_df['countries_list'] for country in sublist]\n",
        "country_counts = pd.Series(all_countries).value_counts()\n",
        "\n",
        "# Plot top 10 countries\n",
        "plt.figure(figsize=(12,6))\n",
        "sns.barplot(x=country_counts.values[:10], y=country_counts.index[:10])\n",
        "plt.title('Top 10 Production Countries')\n",
        "plt.xlabel('Number of Titles')\n",
        "plt.ylabel('Countries')\n",
        "plt.show()\n"
      ],
      "metadata": {
        "id": "TmW8MmWtR3PN"
      },
      "execution_count": null,
      "outputs": []
    },
    {
      "cell_type": "code",
      "source": [
        "plt.figure(figsize=(12,6))\n",
        "sns.scatterplot(data=titles_df, x='imdb_score', y='imdb_votes', alpha=0.6)\n",
        "plt.title('IMDb Score vs Votes')\n",
        "plt.xlabel('IMDb Score')\n",
        "plt.ylabel('IMDb Votes')\n",
        "plt.show()\n",
        "\n",
        "# Distribution of IMDb scores\n",
        "plt.figure(figsize=(12,6))\n",
        "sns.histplot(titles_df['imdb_score'], bins=20)\n",
        "plt.title('IMDb Score Distribution')\n",
        "plt.xlabel('IMDb Score')\n",
        "plt.ylabel('Count')\n",
        "plt.show()\n"
      ],
      "metadata": {
        "id": "6qN6CoSZSBFZ"
      },
      "execution_count": null,
      "outputs": []
    },
    {
      "cell_type": "code",
      "source": [
        "plt.figure(figsize=(12,6))\n",
        "sns.scatterplot(data=titles_df, x='imdb_score', y='imdb_votes', alpha=0.6)\n",
        "plt.title('IMDb Score vs Votes')\n",
        "plt.xlabel('IMDb Score')\n",
        "plt.ylabel('IMDb Votes')\n",
        "plt.show()\n",
        "\n",
        "# Distribution of IMDb scores\n",
        "plt.figure(figsize=(12,6))\n",
        "sns.histplot(titles_df['imdb_score'], bins=20)\n",
        "plt.title('IMDb Score Distribution')\n",
        "plt.xlabel('IMDb Score')\n",
        "plt.ylabel('Count')\n",
        "plt.show()\n"
      ],
      "metadata": {
        "id": "zMk29Lu3SHe-"
      },
      "execution_count": null,
      "outputs": []
    },
    {
      "cell_type": "code",
      "source": [
        "top_actors = credits_df[credits_df['role']=='ACTOR'].groupby('name').size().sort_values(ascending=False).head(10)\n",
        "\n",
        "plt.figure(figsize=(12,6))\n",
        "sns.barplot(x=top_actors.values, y=top_actors.index)\n",
        "plt.title('Top 10 Actors')\n",
        "plt.xlabel('Number of Credits')\n",
        "plt.ylabel('Actor')\n",
        "plt.show()\n"
      ],
      "metadata": {
        "id": "dNHAwr0dSN14"
      },
      "execution_count": null,
      "outputs": []
    },
    {
      "cell_type": "code",
      "source": [
        "top_directors = credits_df[credits_df['role']=='DIRECTOR'].groupby('name').size().sort_values(ascending=False).head(10)\n",
        "\n",
        "plt.figure(figsize=(12,6))\n",
        "sns.barplot(x=top_directors.values, y=top_directors.index)\n",
        "plt.title('Top 10 Directors')\n",
        "plt.xlabel('Number of Credits')\n",
        "plt.ylabel('Director')\n",
        "plt.show()\n"
      ],
      "metadata": {
        "id": "MT7BGfbJSX9Q"
      },
      "execution_count": null,
      "outputs": []
    },
    {
      "cell_type": "markdown",
      "source": [
        "# **Conclusion**"
      ],
      "metadata": {
        "id": "gCX9965dhzqZ"
      }
    },
    {
      "cell_type": "markdown",
      "source": [
        "In this project, we explored the Amazon Prime Video dataset to find useful insights. We saw that movies are more common than TV shows, and Drama, Comedy, and Action are the most popular genres. Most content is from the United States, and shows rated for adults (like TV-MA) tend to be more popular. These findings can help Amazon Prime decide what kind of content to focus on in the future.\n"
      ],
      "metadata": {
        "id": "Fjb1IsQkh3yE"
      }
    },
    {
      "cell_type": "markdown",
      "source": [
        "### ***Hurrah! You have successfully completed your EDA Capstone Project !!!***"
      ],
      "metadata": {
        "id": "gIfDvo9L0UH2"
      }
    }
  ]
}